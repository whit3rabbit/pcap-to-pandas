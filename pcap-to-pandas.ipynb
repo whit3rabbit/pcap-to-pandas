{
 "cells": [
  {
   "cell_type": "code",
   "execution_count": null,
   "metadata": {},
   "outputs": [],
   "source": [
    "#!pip install scapy\n",
    "#!pip install pandas\n",
    "#!pip install matplotlib\n",
    "#!pip install networkx"
   ]
  },
  {
   "cell_type": "code",
   "execution_count": null,
   "metadata": {},
   "outputs": [],
   "source": [
    "from scapy.all import * # Packet manipulation\n",
    "import pandas as pd # Pandas - Create and Manipulate DataFrames\n",
    "from datetime import datetime # Datetime - Convert Epoch to Datetime\n",
    "import socket # Socket - Convert protocol numbers to protocol names\n",
    "import networkx as nx # NetworkX - Create and Manipulate Graphs\n",
    "import ipaddress # IPAddress - Check for multicast and broadcast addresses"
   ]
  },
  {
   "cell_type": "code",
   "execution_count": null,
   "metadata": {},
   "outputs": [],
   "source": [
    "class PCAPToDataFrame:\n",
    "    def __init__(self, capture_file):\n",
    "        self.capture_file = capture_file\n",
    "        self.data_list = []\n",
    "\n",
    "    def proto_name_by_num(self, proto_num):\n",
    "        for name,num in vars(socket).items():\n",
    "            if name.startswith(\"IPPROTO\") and proto_num == num:\n",
    "                return name[8:]\n",
    "        return \"Unknown\"\n",
    "\n",
    "    def data_extract(self, packet):\n",
    "        # Convert the timestamp to a readable UTC time\n",
    "        time = datetime.utcfromtimestamp(int(packet.time)).strftime('%Y-%m-%d %H:%M:%S')\n",
    "        protocol = self.proto_name_by_num(int(packet[IP].proto))\n",
    "\n",
    "        # Extract the desired data from the packet\n",
    "        data = {\n",
    "            \"time\": time,\n",
    "            \"src_ip\": packet[IP].src,\n",
    "            \"src_mac\": packet[Ether].src,\n",
    "            \"dst_ip\": packet[IP].dst,\n",
    "            \"dst_mac\": packet[Ether].dst,\n",
    "            \"protocol\": protocol,\n",
    "            \"payload_size\": len(packet[IP].payload)\n",
    "        }\n",
    "\n",
    "        # Check if the source or destination IP address is a multicast address\n",
    "        src_ip = ipaddress.ip_address(packet[IP].src)\n",
    "        dst_ip = ipaddress.ip_address(packet[IP].dst)\n",
    "        if src_ip.is_multicast or dst_ip.is_multicast:\n",
    "            data[\"multicast\"] = True\n",
    "        else:\n",
    "            data[\"multicast\"] = False\n",
    "\n",
    "        # Check if the source and destination IP addresses are both private\n",
    "        src_ip = ipaddress.ip_address(packet[IP].src)\n",
    "        dst_ip = ipaddress.ip_address(packet[IP].dst)\n",
    "        if src_ip.is_private and dst_ip.is_private:\n",
    "            data[\"private_to_private\"] = True\n",
    "        else:\n",
    "            data[\"private_to_private\"] = False\n",
    "\n",
    "        # Check if the destination IP address is a broadcast address\n",
    "        dst_ip = ipaddress.ip_address(packet[IP].dst)\n",
    "        if not dst_ip.is_global and dst_ip.is_link_local:\n",
    "            data[\"dst_broadcast\"] = True\n",
    "        else:\n",
    "            data[\"dst_broadcast\"] = False\n",
    "\n",
    "        # Extract the source and destination port numbers if they are present\n",
    "        if packet.haslayer(TCP):\n",
    "            data[\"src_port\"] = int(packet[TCP].sport)\n",
    "            data[\"dst_port\"] = int(packet[TCP].dport)\n",
    "\n",
    "        if packet.haslayer(UDP):\n",
    "            data[\"src_port\"] = int(packet[UDP].sport)\n",
    "            data[\"dst_port\"] = int(packet[UDP].dport)\n",
    "\n",
    "        # Accumulate the data in a list\n",
    "        self.data_list.append(data)\n",
    "\n",
    "    def read_pcap_to_dataframe(self):\n",
    "        def data_extract_wrapper(packet):\n",
    "            self.data_extract(packet)\n",
    "\n",
    "        packets = sniff(offline=self.capture_file, prn=data_extract_wrapper, store=0)\n",
    "\n",
    "        # Create a Pandas DataFrame from the data\n",
    "        df = pd.DataFrame(self.data_list)\n",
    "        return df"
   ]
  },
  {
   "cell_type": "code",
   "execution_count": null,
   "metadata": {},
   "outputs": [],
   "source": [
    "# Create an instance of the PCAPToDataFrame class\n",
    "pcap_to_df = PCAPToDataFrame(\"test.pcap\")\n",
    "\n",
    "# Read the PCAP file and create a DataFrame\n",
    "df = pcap_to_df.read_pcap_to_dataframe()"
   ]
  },
  {
   "cell_type": "code",
   "execution_count": null,
   "metadata": {},
   "outputs": [],
   "source": [
    "df.head(3)"
   ]
  },
  {
   "cell_type": "code",
   "execution_count": null,
   "metadata": {},
   "outputs": [],
   "source": [
    "df1 = df[['src_ip', 'src_mac', 'dst_ip', 'dst_mac']]\n",
    "G = nx.Graph()\n",
    "G = nx.from_pandas_edgelist(df1, 'src_ip', 'dst_ip', create_using=nx.Graph())\n",
    "nx.draw_planar(G, with_labels = True) \n"
   ]
  },
  {
   "cell_type": "code",
   "execution_count": null,
   "metadata": {},
   "outputs": [],
   "source": [
    "# Filter the dataframe to only show rows where the source and destination IP addresses are both private\n",
    "filtered_df = df[df[\"private_to_private\"] == True]"
   ]
  }
 ],
 "metadata": {
  "kernelspec": {
   "display_name": "tf",
   "language": "python",
   "name": "python3"
  },
  "language_info": {
   "codemirror_mode": {
    "name": "ipython",
    "version": 3
   },
   "file_extension": ".py",
   "mimetype": "text/x-python",
   "name": "python",
   "nbconvert_exporter": "python",
   "pygments_lexer": "ipython3",
   "version": "3.9.15"
  },
  "orig_nbformat": 4,
  "vscode": {
   "interpreter": {
    "hash": "ddc97ae128281c05480c1f8005c6b5489769cc6d6f9dc1223215b95e23507aa4"
   }
  }
 },
 "nbformat": 4,
 "nbformat_minor": 2
}
